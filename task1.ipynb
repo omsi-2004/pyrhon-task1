{
 "cells": [
  {
   "cell_type": "code",
   "execution_count": 16,
   "id": "795b0421-7fd2-4593-acdc-2cdb4439eef8",
   "metadata": {},
   "outputs": [
    {
     "name": "stdout",
     "output_type": "stream",
     "text": [
      "Omsi\n",
      "19\n",
      "True\n"
     ]
    }
   ],
   "source": [
    "#variables\n",
    "#creating variables\n",
    "name='Omsi'\n",
    "age=19\n",
    "is_tall=True\n",
    "\n",
    "#printing variables values\n",
    "print(name)\n",
    "print(age)\n",
    "print(is_tall)"
   ]
  },
  {
   "cell_type": "code",
   "execution_count": 17,
   "id": "b2f87549-d848-45ea-abfa-72cfeb469283",
   "metadata": {},
   "outputs": [
    {
     "name": "stdout",
     "output_type": "stream",
     "text": [
      "omsi 20 89.6 True\n"
     ]
    }
   ],
   "source": [
    "#datatypes\n",
    "#string\n",
    "name=\"omsi\"\n",
    "\n",
    "#interger\n",
    "age=20\n",
    "\n",
    "#float\n",
    "percentage=89.6\n",
    "\n",
    "#boolean\n",
    "is_vaild=True\n",
    "\n",
    "print(name,age,percentage,is_vaild)"
   ]
  },
  {
   "cell_type": "code",
   "execution_count": 18,
   "id": "8fa75e30-9370-4c90-b260-0aea0070c3d6",
   "metadata": {},
   "outputs": [
    {
     "name": "stdout",
     "output_type": "stream",
     "text": [
      "sum 13\n",
      "difference 3\n",
      "product 40\n",
      "division 1.6\n",
      "modulus 3\n"
     ]
    }
   ],
   "source": [
    "#arithemetic operations\n",
    "a=8\n",
    "b=5\n",
    "\n",
    "print(\"sum\",a+b)\n",
    "print(\"difference\",a-b)\n",
    "print(\"product\",a*b)\n",
    "print(\"division\",a/b)\n",
    "print(\"modulus\",a%b)"
   ]
  },
  {
   "cell_type": "code",
   "execution_count": 19,
   "id": "02afdf7d-4910-419d-a255-6663ff940d40",
   "metadata": {},
   "outputs": [
    {
     "name": "stdout",
     "output_type": "stream",
     "text": [
      "bbsr\n",
      "berhampur\n",
      "delhi\n",
      "mumbai\n",
      "hydrabad\n",
      "5\n",
      "6\n",
      "7\n",
      "8\n",
      "9\n"
     ]
    }
   ],
   "source": [
    "#loops\n",
    "#for loop\n",
    "city=[\"bbsr\",\"berhampur\",\"delhi\",\"mumbai\",\"hydrabad\"]\n",
    "for x in city:\n",
    "    print(x)\n",
    "\n",
    "#while loop\n",
    "i=5\n",
    "while i<10:\n",
    "    print(i)\n",
    "    i += 1"
   ]
  },
  {
   "cell_type": "code",
   "execution_count": 20,
   "id": "59f8c48e-fb76-4559-bd2c-8ce3d93b770e",
   "metadata": {},
   "outputs": [
    {
     "name": "stdout",
     "output_type": "stream",
     "text": [
      "hii,omsi\n"
     ]
    }
   ],
   "source": [
    "#function\n",
    "def say(name):\n",
    "    return \"hii,\" +name\n",
    "\n",
    "print(say(\"omsi\"))"
   ]
  },
  {
   "cell_type": "code",
   "execution_count": 21,
   "id": "e226d6e7-928a-4a90-9283-a8e791c83710",
   "metadata": {},
   "outputs": [
    {
     "name": "stdout",
     "output_type": "stream",
     "text": [
      "[1, 2, 3, 4, 5]\n",
      "2\n",
      "5\n",
      "[1, 2, 3, 4, 5, 8]\n",
      "[1, 2, 3, 5, 8]\n",
      "5\n"
     ]
    }
   ],
   "source": [
    "#list\n",
    "my_list=[1,2,3,4,5]\n",
    "print(my_list)\n",
    "\n",
    "#accessing elements\n",
    "print(my_list[1])\n",
    "print(my_list[4])\n",
    "\n",
    "#adding elements\n",
    "my_list.append(8)\n",
    "print(my_list)\n",
    "\n",
    "#removing elements\n",
    "my_list.remove(4)\n",
    "print(my_list)\n",
    "\n",
    "#length of the list\n",
    "print(len(my_list))"
   ]
  },
  {
   "cell_type": "code",
   "execution_count": 24,
   "id": "77be78c2-a8f9-400e-9f04-5edb272f95e2",
   "metadata": {},
   "outputs": [
    {
     "name": "stdout",
     "output_type": "stream",
     "text": [
      "{'name': 'omsi', 20: 20, 'city': 'berhampur'}\n",
      "<class 'dict'>\n",
      "3\n",
      "{'name': 'omsi', 20: 20, 'city': 'berhampur', 'gender': 'male'}\n",
      "{'name': 'omsi', 20: 20, 'gender': 'male'}\n",
      "{}\n"
     ]
    }
   ],
   "source": [
    "#dictionary\n",
    "my_dict={'name':'omsi',age:20,'city':'berhampur'}\n",
    "print(my_dict)\n",
    "print(type(my_dict))\n",
    "print(len(my_dict))\n",
    "\n",
    "#add elements\n",
    "my_dict['gender']='male'\n",
    "print(my_dict)\n",
    "\n",
    "#remove elements\n",
    "my_dict.pop('city')\n",
    "print(my_dict)\n",
    "\n",
    "#clear elements\n",
    "my_dict.clear()\n",
    "print(my_dict)"
   ]
  },
  {
   "cell_type": "code",
   "execution_count": 25,
   "id": "6e00a8a4-da41-4f04-812e-bdc9c9338b7a",
   "metadata": {},
   "outputs": [
    {
     "name": "stdout",
     "output_type": "stream",
     "text": [
      "('rose', 'lily', 'sunflower')\n",
      "<class 'tuple'>\n",
      "3\n",
      "lily\n",
      "sunflower\n",
      "rose is the part of tuple\n",
      "rose\n",
      "lily\n",
      "sunflower\n"
     ]
    }
   ],
   "source": [
    "#tuple\n",
    "flowers=(\"rose\",\"lily\",\"sunflower\")\n",
    "print(flowers)\n",
    "\n",
    "#check type of tuple\n",
    "print(type(flowers))\n",
    "\n",
    "#check length of tuple\n",
    "print(len(flowers))\n",
    "\n",
    "#checking accessing item in tuple\n",
    "print(flowers[1])\n",
    "print(flowers[-1]) \n",
    "\n",
    "#check if a item exist in tuple\n",
    "if \"rose\" in flowers:\n",
    "    print(\"rose is the part of tuple\")\n",
    "\n",
    "#traverse the tuple\n",
    "for i in flowers:\n",
    "    print(i)\n"
   ]
  },
  {
   "cell_type": "code",
   "execution_count": 26,
   "id": "21f2acd5-e81f-4287-8927-6e10266ba0d0",
   "metadata": {},
   "outputs": [
    {
     "name": "stdout",
     "output_type": "stream",
     "text": [
      "hiihello\n",
      "hello everyone,good evening\n",
      "NEW YORK\n",
      "new york\n",
      "g\n",
      "i\n"
     ]
    }
   ],
   "source": [
    "#string manipulation\n",
    "#string concatenation\n",
    "message1=\"hii\"\n",
    "message2=\"hello\"\n",
    "print(message1+message2)\n",
    "\n",
    "#replace part of a string\n",
    "str=\"hello everyone,good morning\"\n",
    "str=str.replace(\"morning\",\"evening\")\n",
    "print(str)\n",
    "\n",
    "#for uppercase\n",
    "str1=\"new york\"\n",
    "str1=str1.upper()\n",
    "print(str1)\n",
    "\n",
    "#for lowercase\n",
    "str2=\"NEW YORK\"\n",
    "str2=str2.lower()\n",
    "print(str2)\n",
    "\n",
    "#string indexing\n",
    "msg=\"good moring\"\n",
    "print(msg[0])\n",
    "print(msg[8])"
   ]
  },
  {
   "cell_type": "code",
   "execution_count": 27,
   "id": "e05886c3-2ab1-4a1e-8cda-70db7f703d0b",
   "metadata": {},
   "outputs": [
    {
     "name": "stdout",
     "output_type": "stream",
     "text": [
      "good moring\n",
      "adult\n"
     ]
    }
   ],
   "source": [
    "#conditional\n",
    "#if-else\n",
    "a=5\n",
    "if(a>2):\n",
    "    print(\"good moring\")\n",
    "else:\n",
    "    print(\"good evening\")\n",
    "    \n",
    "#ternary\n",
    "age=20\n",
    "my_age=\"adult\" if age>=18 else \"minor\"\n",
    "print(my_age)"
   ]
  }
 ],
 "metadata": {
  "kernelspec": {
   "display_name": "Python 3 (ipykernel)",
   "language": "python",
   "name": "python3"
  },
  "language_info": {
   "codemirror_mode": {
    "name": "ipython",
    "version": 3
   },
   "file_extension": ".py",
   "mimetype": "text/x-python",
   "name": "python",
   "nbconvert_exporter": "python",
   "pygments_lexer": "ipython3",
   "version": "3.12.2"
  }
 },
 "nbformat": 4,
 "nbformat_minor": 5
}
